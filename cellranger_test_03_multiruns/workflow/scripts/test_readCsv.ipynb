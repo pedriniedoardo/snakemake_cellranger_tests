{
 "cells": [
  {
   "cell_type": "code",
   "execution_count": 10,
   "id": "187d1e56",
   "metadata": {},
   "outputs": [
    {
     "data": {
      "text/plain": [
       "{'tinygex': {'sample_run': 'tiny_run',\n",
       "  'sample_path': '/media/edo/ExtremeSSD/training/test_snakemake/test_cellranger/sample_data/test01'},\n",
       " 'tinygex2': {'sample_run': 'tiny_run',\n",
       "  'sample_path': '/media/edo/ExtremeSSD/training/test_snakemake/test_cellranger/sample_data/test01'}}"
      ]
     },
     "execution_count": 10,
     "metadata": {},
     "output_type": "execute_result"
    }
   ],
   "source": [
    "import pandas as pd\n",
    "import os\n",
    "\n",
    "df = pd.read_csv(\"../../config/samplesTestFast.csv\")\n",
    "\n",
    "# Convert to dictionary\n",
    "# I extract now, from the sample_path that I have in the df, which comes from the samples.csv from pypette only the folder of the samples. This is because in pypette samples.csv the sample_path is intended to locate the single fastq.gz files, while for cell ranger we need the 'folder' as Edoardo and Aurora have set.\n",
    "# That's why I am introducing  the os.path.dirname\n",
    "SAMPLES = {\n",
    "    row[\"sample_name\"]: {\n",
    "        \"sample_run\": row[\"sample_run\"],\n",
    "        \"sample_path\": os.path.dirname(row[\"sample_path\"]) # Extract folder path\n",
    "    }\n",
    "    for _, row in df.iterrows()\n",
    "}\n",
    "\n",
    "SAMPLES"
   ]
  },
  {
   "cell_type": "code",
   "execution_count": 11,
   "id": "e9c5c762",
   "metadata": {},
   "outputs": [
    {
     "data": {
      "text/plain": [
       "{'tinygex': {'sample_run': 'run02',\n",
       "  'sample_path': '/media/edo/ExtremeSSD/training/test_snakemake/test_cellranger/sample_data/test02/run02/tinygex'},\n",
       " 'tinygex2': {'sample_run': 'run01',\n",
       "  'sample_path': '/media/edo/ExtremeSSD/training/test_snakemake/test_cellranger/sample_data/test02/run01/tinygex2'}}"
      ]
     },
     "execution_count": 11,
     "metadata": {},
     "output_type": "execute_result"
    }
   ],
   "source": [
    "df2 = pd.read_csv(\"../../config/samplesTestFastRuns.csv\")\n",
    "\n",
    "# Convert to dictionary\n",
    "# I extract now, from the sample_path that I have in the df, which comes from the samples.csv from pypette only the folder of the samples. This is because in pypette samples.csv the sample_path is intended to locate the single fastq.gz files, while for cell ranger we need the 'folder' as Edoardo and Aurora have set.\n",
    "# That's why I am introducing  the os.path.dirname\n",
    "SAMPLES2 = {\n",
    "    row[\"sample_name\"]: {\n",
    "        \"sample_run\": row[\"sample_run\"],\n",
    "        \"sample_path\": os.path.dirname(row[\"sample_path\"]) # Extract folder path\n",
    "    }\n",
    "    for _, row in df2.iterrows()\n",
    "}\n",
    "SAMPLES2"
   ]
  }
 ],
 "metadata": {
  "kernelspec": {
   "display_name": "env_python",
   "language": "python",
   "name": "python3"
  },
  "language_info": {
   "codemirror_mode": {
    "name": "ipython",
    "version": 3
   },
   "file_extension": ".py",
   "mimetype": "text/x-python",
   "name": "python",
   "nbconvert_exporter": "python",
   "pygments_lexer": "ipython3",
   "version": "3.12.2"
  }
 },
 "nbformat": 4,
 "nbformat_minor": 5
}
